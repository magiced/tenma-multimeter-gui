{
 "cells": [
  {
   "cell_type": "markdown",
   "metadata": {},
   "source": [
    "# Using Logging for logging\n",
    "\n",
    "* [ ] look at logging tutorial\n",
    "* [ ] how to format log message\n",
    "* [ ] how to set maximum log file size\n",
    "* [ ] can you do fifo logging to a file?\n",
    "* [ ] how to write to file\n",
    "* [ ] how to write to command line\n",
    "* [ ] how to switch between\n",
    "\n",
    "## References\n",
    "\n",
    "**Logging Reference:** https://docs.python.org/3/library/logging.html\n",
    "\n",
    "https://docs.python.org/3.8/library/logging\n",
    "\n",
    "**Formatting** https://docs.python.org/3.10/library/logging.html#logging.Formatter\n",
    "\n",
    "**Python docs logging tutorial**: https://docs.python.org/3/howto/logging.html\n",
    "\n",
    "**RealPython tutorial:** https://realpython.com/python-logging/ and the source code walkthrough: https://realpython.com/python-logging-source-code/\n",
    "\n",
    "## date formatting\n",
    "\n",
    "in the config, the time output can be formatted with the 'datefmt' parameter, using the strftime formatters.\n",
    "\n",
    "the complete list of strftime formatters is here:\n",
    "https://manpages.debian.org/bullseye/manpages-dev/strftime.3.en.html"
   ]
  },
  {
   "cell_type": "code",
   "execution_count": 1,
   "metadata": {},
   "outputs": [
    {
     "name": "stderr",
     "output_type": "stream",
     "text": [
      "2023-01-06 12:33:42,871 - WARNING:27\n"
     ]
    }
   ],
   "source": [
    "import logging\n",
    "val = 27\n",
    "logging.basicConfig(format='%(asctime)s - %(levelname)s:%(message)s', datefmt=)\n",
    "logging.warning(f'{val}')"
   ]
  },
  {
   "cell_type": "code",
   "execution_count": 9,
   "metadata": {},
   "outputs": [
    {
     "name": "stdout",
     "output_type": "stream",
     "text": [
      "1673013621.744168\n",
      "2023-01-06\n"
     ]
    }
   ],
   "source": [
    "import time\n",
    "\n",
    "print(time.time())\n",
    "print(time.strftime('%F'))"
   ]
  }
 ],
 "metadata": {
  "kernelspec": {
   "display_name": "Python 3.8.10 64-bit",
   "language": "python",
   "name": "python3"
  },
  "language_info": {
   "codemirror_mode": {
    "name": "ipython",
    "version": 3
   },
   "file_extension": ".py",
   "mimetype": "text/x-python",
   "name": "python",
   "nbconvert_exporter": "python",
   "pygments_lexer": "ipython3",
   "version": "3.8.10"
  },
  "orig_nbformat": 4,
  "vscode": {
   "interpreter": {
    "hash": "78e90a727851e485d5f1ead1f88910482c4bc1fa05371e29f96c9ced0c7e162f"
   }
  }
 },
 "nbformat": 4,
 "nbformat_minor": 2
}
